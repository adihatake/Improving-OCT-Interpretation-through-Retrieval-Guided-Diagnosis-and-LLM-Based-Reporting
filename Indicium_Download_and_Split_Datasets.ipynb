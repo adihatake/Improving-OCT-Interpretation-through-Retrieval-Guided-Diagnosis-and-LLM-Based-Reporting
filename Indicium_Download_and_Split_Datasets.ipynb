{
  "cells": [
    {
      "cell_type": "markdown",
      "metadata": {
        "id": "view-in-github",
        "colab_type": "text"
      },
      "source": [
        "<a href=\"https://colab.research.google.com/github/adihatake/Improving-OCT-Interpretation-through-Retrieval-Guided-Diagnosis-and-LLM-Based-Reporting/blob/main/Indicium_Download_and_Split_Datasets.ipynb\" target=\"_parent\"><img src=\"https://colab.research.google.com/assets/colab-badge.svg\" alt=\"Open In Colab\"/></a>"
      ]
    },
    {
      "cell_type": "markdown",
      "metadata": {
        "id": "PVKQMv7n5RXC"
      },
      "source": [
        "# Load dependencies"
      ]
    },
    {
      "cell_type": "code",
      "execution_count": null,
      "metadata": {
        "id": "vo0Fg9CRYF0x",
        "colab": {
          "base_uri": "https://localhost:8080/"
        },
        "outputId": "8d89feac-a8aa-4d80-ca80-f4b7673ed395"
      },
      "outputs": [
        {
          "output_type": "stream",
          "name": "stdout",
          "text": [
            "Drive already mounted at /content/drive; to attempt to forcibly remount, call drive.mount(\"/content/drive\", force_remount=True).\n"
          ]
        }
      ],
      "source": [
        "from google.colab import drive\n",
        "drive.mount('/content/drive')\n"
      ]
    },
    {
      "cell_type": "code",
      "execution_count": null,
      "metadata": {
        "collapsed": true,
        "id": "mbWXNbjUA1eh"
      },
      "outputs": [],
      "source": [
        "! pip install -U datasets"
      ]
    },
    {
      "cell_type": "code",
      "execution_count": null,
      "metadata": {
        "collapsed": true,
        "id": "ghv41nJiv_Rt"
      },
      "outputs": [],
      "source": [
        "import torch\n",
        "import torch.nn as nn\n",
        "import torch.nn.functional as F\n",
        "import pandas as pd\n",
        "\n",
        "import matplotlib.pyplot as plt\n",
        "import datasets\n",
        "import numpy as np\n",
        "\n",
        "\n",
        "from PIL import Image\n",
        "from datasets import load_dataset, load_from_disk\n",
        "\n",
        "from torch.utils.data import DataLoader\n",
        "from torchvision import transforms\n",
        "\n",
        "# Keep constant for reproducibility\n",
        "SEED = 42"
      ]
    },
    {
      "cell_type": "markdown",
      "source": [
        "# Download biomarker benchmarking dataset"
      ],
      "metadata": {
        "id": "vEYv-4oLAomX"
      }
    },
    {
      "cell_type": "code",
      "source": [
        "olives_biomarker_benchmark = load_dataset('gOLIVES/OLIVES_Dataset', 'biomarker_detection', split = 'test')\n",
        "olives_biomarker_benchmark = olives_biomarker_benchmark.remove_columns(['Eye_ID', 'BCVA', \"CST\", \"Patient_ID\"])\n"
      ],
      "metadata": {
        "id": "r0QEXDMIAn3x"
      },
      "execution_count": null,
      "outputs": []
    },
    {
      "cell_type": "code",
      "source": [
        "olives_biomarker_benchmark.to_parquet(\"/content/drive/MyDrive/Indicium/OLIVES_biomarker_benchmark_dataset.parquet\")"
      ],
      "metadata": {
        "colab": {
          "base_uri": "https://localhost:8080/",
          "height": 66,
          "referenced_widgets": [
            "b582c4cd5e0e468b90df18ef8b40a37d",
            "7cd1dc9bdaa7423cafacfc4038db2f35",
            "767a3810204649ddb711c9c2c877dc7d",
            "fa038f6bdf8c4a549fffe77504cb6232",
            "1c5b2e0b201146e68303ad8f610b4b4d",
            "178219f39c0545d7b8a2905af694f046",
            "38f68e0e37dd4f24a12e66e623d055fe",
            "6ffd4667cd274b9eb87b1142021eb4be",
            "08e20874652545d39dbb5bafa48a4883",
            "940db95d937f46f68469e17e52fcbfa3",
            "34cbf99ca0924bbb914a13f6ac32aa70"
          ]
        },
        "id": "nn9SoPyHBiSQ",
        "outputId": "377fee71-850c-4078-9f94-933888fd4d5b"
      },
      "execution_count": null,
      "outputs": [
        {
          "output_type": "display_data",
          "data": {
            "text/plain": [
              "Creating parquet from Arrow format:   0%|          | 0/39 [00:00<?, ?ba/s]"
            ],
            "application/vnd.jupyter.widget-view+json": {
              "version_major": 2,
              "version_minor": 0,
              "model_id": "b582c4cd5e0e468b90df18ef8b40a37d"
            }
          },
          "metadata": {}
        },
        {
          "output_type": "execute_result",
          "data": {
            "text/plain": [
              "968454669"
            ]
          },
          "metadata": {},
          "execution_count": 9
        }
      ]
    },
    {
      "cell_type": "markdown",
      "metadata": {
        "id": "-zCm1Td65aZ0"
      },
      "source": [
        "# Download OLIVES train split from Huggingface"
      ]
    },
    {
      "cell_type": "code",
      "execution_count": null,
      "metadata": {
        "id": "cRZQBHBm5PGa"
      },
      "outputs": [],
      "source": [
        "# Download data from huggingface\n",
        "olives = load_dataset('gOLIVES/OLIVES_Dataset', 'disease_classification', split = 'train')\n",
        "olives = olives.remove_columns(['Scan (n/49)', 'Eye_ID', 'BCVA', \"CST\"])\n"
      ]
    },
    {
      "cell_type": "code",
      "source": [
        "# Convert to a pandas dataset\n",
        "olives_df = olives.to_pandas()\n",
        "olives_df.head()"
      ],
      "metadata": {
        "id": "DMwIJZ59ctrz"
      },
      "execution_count": null,
      "outputs": []
    },
    {
      "cell_type": "code",
      "source": [
        "# Filter out rows that have 'NaN'\n",
        "filtered_df = olives_df.dropna()"
      ],
      "metadata": {
        "id": "xCJLeDt6dYGd"
      },
      "execution_count": null,
      "outputs": []
    },
    {
      "cell_type": "code",
      "source": [
        "# Convert the pandas dataset back to a huggingface dataset\n",
        "filtered_dataset = datasets.Dataset.from_pandas(filtered_df)"
      ],
      "metadata": {
        "id": "GVJr-E8cfceL",
        "collapsed": true
      },
      "execution_count": null,
      "outputs": []
    },
    {
      "cell_type": "code",
      "source": [
        "# Count instances per Patient_ID\n",
        "from collections import Counter\n",
        "\n",
        "patient_counts = Counter(filtered_df['Patient_ID'])\n",
        "print(patient_counts)\n",
        "unique_patients = sorted(list(patient_counts.keys()))\n",
        "print(f\"Total unique patients: {len(unique_patients)}\")\n",
        "\n"
      ],
      "metadata": {
        "id": "wsKuE970vI7L",
        "colab": {
          "base_uri": "https://localhost:8080/"
        },
        "outputId": "dcb2f2b6-6314-4f76-daa8-60ebde49e260"
      },
      "execution_count": null,
      "outputs": [
        {
          "output_type": "stream",
          "name": "stdout",
          "text": [
            "Counter({201: 392, 213: 392, 226: 392, 222: 384, 204: 343, 234: 294, 243: 294, 249: 294, 232: 290, 58: 196, 59: 196, 60: 196, 61: 196, 62: 196, 63: 196, 64: 196, 65: 196, 66: 196, 67: 196, 68: 196, 69: 196, 70: 196, 71: 196, 72: 196, 73: 196, 74: 196, 75: 196, 76: 196, 77: 196, 57: 196, 78: 196, 80: 196, 81: 196, 82: 196, 83: 196, 84: 196, 85: 196, 86: 196, 87: 196, 88: 196, 89: 196, 90: 196, 91: 196, 92: 196, 93: 196, 94: 196, 95: 196, 96: 196, 203: 196, 215: 196, 217: 196, 221: 196, 225: 196, 229: 196, 210: 196, 212: 196, 216: 196, 218: 196, 219: 196, 245: 196, 248: 196, 253: 196, 207: 196, 208: 196, 209: 196, 211: 196, 220: 196, 224: 196, 228: 196, 230: 196, 231: 196, 235: 196, 237: 196, 240: 196, 242: 196, 254: 196, 255: 196, 206: 184, 79: 98, 236: 98, 238: 98, 239: 98, 241: 98, 247: 98, 251: 98, 252: 98, 256: 98})\n",
            "Total unique patients: 87\n"
          ]
        }
      ]
    },
    {
      "cell_type": "markdown",
      "source": [
        "# Split into train"
      ],
      "metadata": {
        "id": "GnaM_m5Z95Ac"
      }
    },
    {
      "cell_type": "code",
      "source": [
        "from sklearn.model_selection import train_test_split\n",
        "\n",
        "patient_labels = filtered_df.groupby('Patient_ID')['Disease Label'].first().reset_index()\n",
        "\n",
        "# Split into train+val (80%) and test (20%)\n",
        "train_patients, test_patients = train_test_split(\n",
        "    patient_labels['Patient_ID'],\n",
        "    test_size=0.2,\n",
        "    stratify=patient_labels['Disease Label'],\n",
        "    random_state=SEED\n",
        ")\n",
        "\n",
        "# Select rows for each split based on patient IDs\n",
        "train_df = filtered_df[filtered_df['Patient_ID'].isin(train_patients)]\n",
        "test_val_df = filtered_df[filtered_df['Patient_ID'].isin(test_patients)]\n"
      ],
      "metadata": {
        "id": "niLSV0xyxuSW"
      },
      "execution_count": null,
      "outputs": []
    },
    {
      "cell_type": "markdown",
      "source": [
        "# Split into validate and test"
      ],
      "metadata": {
        "id": "q3Zs5LSXlENo"
      }
    },
    {
      "cell_type": "code",
      "source": [
        "# Get unique patients with their corresponding labels (e.g., majority label or any label for stratification)\n",
        "test_val_patient_labels = test_val_df.groupby('Patient_ID')['Disease Label'].first().reset_index()\n",
        "\n",
        "\n",
        "val_patients, test_patients = train_test_split(\n",
        "    test_val_patient_labels['Patient_ID'],\n",
        "    test_size=0.5,\n",
        "    stratify=test_val_patient_labels['Disease Label'],\n",
        "    random_state=SEED\n",
        ")\n"
      ],
      "metadata": {
        "id": "l96QRV-X6S5T"
      },
      "execution_count": null,
      "outputs": []
    },
    {
      "cell_type": "code",
      "source": [
        "val_labels = test_val_df[test_val_df['Patient_ID'].isin(val_patients)]\n",
        "test_labels = test_val_df[test_val_df['Patient_ID'].isin(test_patients)]\n",
        "\n",
        "val_label_counts = Counter(val_labels['Disease Label'])\n",
        "test_label_counts = Counter(test_labels['Disease Label'])\n",
        "\n",
        "print(\"Val label distribution:\", val_label_counts)\n",
        "print(\"Test label distribution:\", test_label_counts)\n",
        "\n",
        "\n",
        "val_df = test_val_df[test_val_df['Patient_ID'].isin(val_patients)]\n",
        "test_df = test_val_df[test_val_df['Patient_ID'].isin(test_patients)]\n"
      ],
      "metadata": {
        "colab": {
          "base_uri": "https://localhost:8080/"
        },
        "id": "fvMZXKZO6bO8",
        "outputId": "3307f861-947b-438b-e628-963f12d22ede"
      },
      "execution_count": null,
      "outputs": [
        {
          "output_type": "stream",
          "name": "stdout",
          "text": [
            "Val label distribution: Counter({1.0: 968, 0.0: 686})\n",
            "Test label distribution: Counter({0.0: 784, 1.0: 784})\n"
          ]
        }
      ]
    },
    {
      "cell_type": "markdown",
      "source": [
        "# Verify and Save"
      ],
      "metadata": {
        "id": "IafnAupe-VLc"
      }
    },
    {
      "cell_type": "code",
      "source": [
        "# Convert to HuggingFace dataset:\n",
        "\n",
        "train_dataset = datasets.Dataset.from_pandas(train_df)\n",
        "val_dataset = datasets.Dataset.from_pandas(val_df.reset_index(drop=True))\n",
        "test_dataset = datasets.Dataset.from_pandas(test_df.reset_index(drop=True))\n",
        "\n"
      ],
      "metadata": {
        "id": "hUpvzgpd-oIo"
      },
      "execution_count": null,
      "outputs": []
    },
    {
      "cell_type": "code",
      "source": [
        "from collections import Counter\n",
        "\n",
        "# Extract disease labels from train_dataset\n",
        "train_labels = train_dataset['Disease Label']\n",
        "train_label_counts = Counter(train_labels)\n",
        "\n",
        "# Extract disease labels from test_dataset\n",
        "test_labels = test_dataset['Disease Label']\n",
        "test_label_counts = Counter(test_labels)\n",
        "\n",
        "# Extract disease labels from val_dataset\n",
        "val_labels = val_dataset['Disease Label']\n",
        "val_label_counts = Counter(val_labels)\n",
        "\n",
        "\n",
        "print(\"Train label distribution:\", train_label_counts)\n",
        "print(\"Test label distribution:\", test_label_counts)\n",
        "print(\"Val label distribution:\", val_label_counts)"
      ],
      "metadata": {
        "colab": {
          "base_uri": "https://localhost:8080/"
        },
        "id": "dCmQ5ThA_d2O",
        "outputId": "9bf6810d-9f45-48f4-941a-2aa7a7299a16"
      },
      "execution_count": null,
      "outputs": [
        {
          "output_type": "stream",
          "name": "stdout",
          "text": [
            "Train label distribution: Counter({1.0: 7975, 0.0: 6272})\n",
            "Test label distribution: Counter({0.0: 784, 1.0: 784})\n",
            "Val label distribution: Counter({1.0: 968, 0.0: 686})\n"
          ]
        }
      ]
    },
    {
      "cell_type": "code",
      "source": [
        "# Extract patient IDs from train and test\n",
        "train_patients = set(train_dataset['Patient_ID'])\n",
        "val_patients = set(val_dataset['Patient_ID'])\n",
        "test_patients = set(test_dataset['Patient_ID'])\n",
        "\n",
        "print(train_patients)\n",
        "print(val_patients)\n",
        "print(test_patients)\n",
        "\n",
        "\n",
        "# Find any overlapping patients\n",
        "overlapping_patients_train_val = train_patients.intersection(val_patients)\n",
        "overlapping_patients_train_test = train_patients.intersection(test_patients)\n",
        "\n",
        "overlapping_patients_val_test = val_patients.intersection(test_patients)\n",
        "\n",
        "\n",
        "if overlapping_patients_train_val:\n",
        "    print(f\"{len(overlapping_patients_train_val)} patient(s) appear in both train and validation datasets.\")\n",
        "    print(\"Example overlapping patient IDs:\", list(overlapping_patients_train_val)[:5])\n",
        "\n",
        "if overlapping_patients_train_test:\n",
        "    print(f\"{len(overlapping_patients_train_test)} patient(s) appear in both train and test datasets.\")\n",
        "    print(\"Example overlapping patient IDs:\", list(overlapping_patients_train_test)[:5])\n",
        "\n",
        "if overlapping_patients_val_test:\n",
        "    print(f\"{len(overlapping_patients_val_test)} patient(s) appear in both validation and test datasets.\")\n",
        "    print(\"Example overlapping patient IDs:\", list(overlapping_patients_val_test)[:5])\n",
        "\n",
        "else:\n",
        "    print(\"No patient ID leakage between train and test datasets.\")\n"
      ],
      "metadata": {
        "colab": {
          "base_uri": "https://localhost:8080/"
        },
        "id": "2qv7E6lT2FhI",
        "outputId": "9beb4593-44fc-4f73-ab0d-4b6f173c284f"
      },
      "execution_count": null,
      "outputs": [
        {
          "output_type": "stream",
          "name": "stdout",
          "text": [
            "{208, 209, 220, 210, 212, 57, 58, 59, 60, 61, 62, 63, 216, 65, 66, 68, 69, 70, 72, 73, 74, 201, 76, 204, 78, 207, 80, 81, 82, 83, 84, 213, 86, 87, 88, 89, 90, 91, 92, 93, 94, 215, 96, 225, 226, 218, 219, 229, 222, 228, 232, 234, 235, 236, 237, 238, 239, 240, 241, 242, 243, 245, 248, 249, 251, 252, 253, 254, 255}\n",
            "{64, 224, 67, 203, 206, 79, 217, 221, 95}\n",
            "{256, 230, 71, 231, 75, 77, 211, 85, 247}\n",
            "No patient ID leakage between train and test datasets.\n"
          ]
        }
      ]
    },
    {
      "cell_type": "code",
      "source": [
        "val_listing = list(set(val_dataset['Patient_ID']))\n",
        "test_listing = list(set(test_dataset['Patient_ID']))\n",
        "train_listing = list(set(train_dataset['Patient_ID']))\n",
        "\n",
        "print(len(val_listing))\n",
        "print(len(test_listing))\n",
        "print(len(train_listing))"
      ],
      "metadata": {
        "colab": {
          "base_uri": "https://localhost:8080/"
        },
        "id": "tZdIeOfo-XxX",
        "outputId": "503a7d3e-065e-4b8d-f524-b87387ae97ac"
      },
      "execution_count": null,
      "outputs": [
        {
          "output_type": "stream",
          "name": "stdout",
          "text": [
            "9\n",
            "9\n",
            "69\n"
          ]
        }
      ]
    },
    {
      "cell_type": "code",
      "execution_count": null,
      "metadata": {
        "colab": {
          "base_uri": "https://localhost:8080/",
          "height": 130,
          "referenced_widgets": [
            "7968ddaab51c4d7887fe45c3feb43e3d",
            "87ce4c46a57b423283f297b4264dcc70",
            "72a748366e524c0ea906ee70fc14cbe3",
            "7a51fa6601414f3b8dd3ac6c0f2d41bc",
            "c73fc3700b7144829c13b9a3e3296b3a",
            "027af85ee0454e34aaec9ded04a1d44d",
            "681c1c3b239044bfb2d358e80a25f047",
            "d9e0e72ae3f742078b9a5210dbd04dc8",
            "eb1f4e1e776a400e9594061da5f891ad",
            "87a09d3732e9469394f43d2f43854003",
            "da3f441f6140463786fd3ae663b453ab",
            "871fbca6a9fd4f05bf81628f4b818380",
            "32831392a2934582b9f64000986e13f0",
            "1fc269579a8746cc81fa805acb00d0b1",
            "e260f441face4b66a9f1374f5472887f",
            "b8ce42089475454fa89ed96c68651f72",
            "5d9ad8c625ab4220b4b226633bd8fa99",
            "120647c4d1f649b48b5534351dd69d11",
            "600aee4ee3954de5bbff0d56c4586dff",
            "9e89bb6dfe9d4d77b4b519a0c58dcdc2",
            "a2b500bbe3824cdf9e71ec2e460cb5cd",
            "aca9b912ce284712997991b641e990a6",
            "44694a8ec1714d2baaca677115996284",
            "774d5aa6501a4b698084a5e09dc3afec",
            "043bd62754084480b3d9cba836b2efc7",
            "c1999cd4106b497faa349a2f827166ab",
            "1078c64ba60745a4b607b9520497c40d",
            "119f20ac6e8c4040bc0eae04f181afdd",
            "20d5d41625d74594a56e942ae6ac48ac",
            "1c0c254453824bfab5e694d01c135299",
            "a3617de26f94420da6fd9ed961787866",
            "6c395dcd429b49d0843ccd34bb239d36",
            "01efe318d981445e84ac6510135c8154"
          ]
        },
        "id": "KlsaW4fXRKFY",
        "outputId": "77223ac9-abf9-472e-8929-66a2a82036ad"
      },
      "outputs": [
        {
          "output_type": "display_data",
          "data": {
            "text/plain": [
              "Creating parquet from Arrow format:   0%|          | 0/143 [00:00<?, ?ba/s]"
            ],
            "application/vnd.jupyter.widget-view+json": {
              "version_major": 2,
              "version_minor": 0,
              "model_id": "7968ddaab51c4d7887fe45c3feb43e3d"
            }
          },
          "metadata": {}
        },
        {
          "output_type": "display_data",
          "data": {
            "text/plain": [
              "Creating parquet from Arrow format:   0%|          | 0/16 [00:00<?, ?ba/s]"
            ],
            "application/vnd.jupyter.widget-view+json": {
              "version_major": 2,
              "version_minor": 0,
              "model_id": "871fbca6a9fd4f05bf81628f4b818380"
            }
          },
          "metadata": {}
        },
        {
          "output_type": "display_data",
          "data": {
            "text/plain": [
              "Creating parquet from Arrow format:   0%|          | 0/17 [00:00<?, ?ba/s]"
            ],
            "application/vnd.jupyter.widget-view+json": {
              "version_major": 2,
              "version_minor": 0,
              "model_id": "44694a8ec1714d2baaca677115996284"
            }
          },
          "metadata": {}
        },
        {
          "output_type": "execute_result",
          "data": {
            "text/plain": [
              "413946748"
            ]
          },
          "metadata": {},
          "execution_count": 18
        }
      ],
      "source": [
        "# Save as a parquet file\n",
        "#filtered_dataset.to_parquet(\"/content/drive/MyDrive/Indicium/OLIVES_dataset.parquet\")\n",
        "train_dataset.to_parquet(\"/content/drive/MyDrive/Indicium/OLIVES_train_42.parquet\")\n",
        "test_dataset.to_parquet(\"/content/drive/MyDrive/Indicium/OLIVES_test_.parquet\")\n",
        "val_dataset.to_parquet(\"/content/drive/MyDrive/Indicium/OLIVES_val.parquet\")"
      ]
    }
  ],
  "metadata": {
    "colab": {
      "machine_shape": "hm",
      "provenance": [],
      "collapsed_sections": [
        "PVKQMv7n5RXC",
        "-zCm1Td65aZ0",
        "tIv8mveRDATv"
      ],
      "include_colab_link": true
    },
    "kernelspec": {
      "display_name": "Python 3",
      "name": "python3"
    },
    "language_info": {
      "name": "python"
    },
    "widgets": {
      "application/vnd.jupyter.widget-state+json": {
        "7968ddaab51c4d7887fe45c3feb43e3d": {
          "model_module": "@jupyter-widgets/controls",
          "model_name": "HBoxModel",
          "model_module_version": "1.5.0",
          "state": {
            "_dom_classes": [],
            "_model_module": "@jupyter-widgets/controls",
            "_model_module_version": "1.5.0",
            "_model_name": "HBoxModel",
            "_view_count": null,
            "_view_module": "@jupyter-widgets/controls",
            "_view_module_version": "1.5.0",
            "_view_name": "HBoxView",
            "box_style": "",
            "children": [
              "IPY_MODEL_87ce4c46a57b423283f297b4264dcc70",
              "IPY_MODEL_72a748366e524c0ea906ee70fc14cbe3",
              "IPY_MODEL_7a51fa6601414f3b8dd3ac6c0f2d41bc"
            ],
            "layout": "IPY_MODEL_c73fc3700b7144829c13b9a3e3296b3a"
          }
        },
        "87ce4c46a57b423283f297b4264dcc70": {
          "model_module": "@jupyter-widgets/controls",
          "model_name": "HTMLModel",
          "model_module_version": "1.5.0",
          "state": {
            "_dom_classes": [],
            "_model_module": "@jupyter-widgets/controls",
            "_model_module_version": "1.5.0",
            "_model_name": "HTMLModel",
            "_view_count": null,
            "_view_module": "@jupyter-widgets/controls",
            "_view_module_version": "1.5.0",
            "_view_name": "HTMLView",
            "description": "",
            "description_tooltip": null,
            "layout": "IPY_MODEL_027af85ee0454e34aaec9ded04a1d44d",
            "placeholder": "​",
            "style": "IPY_MODEL_681c1c3b239044bfb2d358e80a25f047",
            "value": "Creating parquet from Arrow format: 100%"
          }
        },
        "72a748366e524c0ea906ee70fc14cbe3": {
          "model_module": "@jupyter-widgets/controls",
          "model_name": "FloatProgressModel",
          "model_module_version": "1.5.0",
          "state": {
            "_dom_classes": [],
            "_model_module": "@jupyter-widgets/controls",
            "_model_module_version": "1.5.0",
            "_model_name": "FloatProgressModel",
            "_view_count": null,
            "_view_module": "@jupyter-widgets/controls",
            "_view_module_version": "1.5.0",
            "_view_name": "ProgressView",
            "bar_style": "success",
            "description": "",
            "description_tooltip": null,
            "layout": "IPY_MODEL_d9e0e72ae3f742078b9a5210dbd04dc8",
            "max": 143,
            "min": 0,
            "orientation": "horizontal",
            "style": "IPY_MODEL_eb1f4e1e776a400e9594061da5f891ad",
            "value": 143
          }
        },
        "7a51fa6601414f3b8dd3ac6c0f2d41bc": {
          "model_module": "@jupyter-widgets/controls",
          "model_name": "HTMLModel",
          "model_module_version": "1.5.0",
          "state": {
            "_dom_classes": [],
            "_model_module": "@jupyter-widgets/controls",
            "_model_module_version": "1.5.0",
            "_model_name": "HTMLModel",
            "_view_count": null,
            "_view_module": "@jupyter-widgets/controls",
            "_view_module_version": "1.5.0",
            "_view_name": "HTMLView",
            "description": "",
            "description_tooltip": null,
            "layout": "IPY_MODEL_87a09d3732e9469394f43d2f43854003",
            "placeholder": "​",
            "style": "IPY_MODEL_da3f441f6140463786fd3ae663b453ab",
            "value": " 143/143 [00:06&lt;00:00, 27.15ba/s]"
          }
        },
        "c73fc3700b7144829c13b9a3e3296b3a": {
          "model_module": "@jupyter-widgets/base",
          "model_name": "LayoutModel",
          "model_module_version": "1.2.0",
          "state": {
            "_model_module": "@jupyter-widgets/base",
            "_model_module_version": "1.2.0",
            "_model_name": "LayoutModel",
            "_view_count": null,
            "_view_module": "@jupyter-widgets/base",
            "_view_module_version": "1.2.0",
            "_view_name": "LayoutView",
            "align_content": null,
            "align_items": null,
            "align_self": null,
            "border": null,
            "bottom": null,
            "display": null,
            "flex": null,
            "flex_flow": null,
            "grid_area": null,
            "grid_auto_columns": null,
            "grid_auto_flow": null,
            "grid_auto_rows": null,
            "grid_column": null,
            "grid_gap": null,
            "grid_row": null,
            "grid_template_areas": null,
            "grid_template_columns": null,
            "grid_template_rows": null,
            "height": null,
            "justify_content": null,
            "justify_items": null,
            "left": null,
            "margin": null,
            "max_height": null,
            "max_width": null,
            "min_height": null,
            "min_width": null,
            "object_fit": null,
            "object_position": null,
            "order": null,
            "overflow": null,
            "overflow_x": null,
            "overflow_y": null,
            "padding": null,
            "right": null,
            "top": null,
            "visibility": null,
            "width": null
          }
        },
        "027af85ee0454e34aaec9ded04a1d44d": {
          "model_module": "@jupyter-widgets/base",
          "model_name": "LayoutModel",
          "model_module_version": "1.2.0",
          "state": {
            "_model_module": "@jupyter-widgets/base",
            "_model_module_version": "1.2.0",
            "_model_name": "LayoutModel",
            "_view_count": null,
            "_view_module": "@jupyter-widgets/base",
            "_view_module_version": "1.2.0",
            "_view_name": "LayoutView",
            "align_content": null,
            "align_items": null,
            "align_self": null,
            "border": null,
            "bottom": null,
            "display": null,
            "flex": null,
            "flex_flow": null,
            "grid_area": null,
            "grid_auto_columns": null,
            "grid_auto_flow": null,
            "grid_auto_rows": null,
            "grid_column": null,
            "grid_gap": null,
            "grid_row": null,
            "grid_template_areas": null,
            "grid_template_columns": null,
            "grid_template_rows": null,
            "height": null,
            "justify_content": null,
            "justify_items": null,
            "left": null,
            "margin": null,
            "max_height": null,
            "max_width": null,
            "min_height": null,
            "min_width": null,
            "object_fit": null,
            "object_position": null,
            "order": null,
            "overflow": null,
            "overflow_x": null,
            "overflow_y": null,
            "padding": null,
            "right": null,
            "top": null,
            "visibility": null,
            "width": null
          }
        },
        "681c1c3b239044bfb2d358e80a25f047": {
          "model_module": "@jupyter-widgets/controls",
          "model_name": "DescriptionStyleModel",
          "model_module_version": "1.5.0",
          "state": {
            "_model_module": "@jupyter-widgets/controls",
            "_model_module_version": "1.5.0",
            "_model_name": "DescriptionStyleModel",
            "_view_count": null,
            "_view_module": "@jupyter-widgets/base",
            "_view_module_version": "1.2.0",
            "_view_name": "StyleView",
            "description_width": ""
          }
        },
        "d9e0e72ae3f742078b9a5210dbd04dc8": {
          "model_module": "@jupyter-widgets/base",
          "model_name": "LayoutModel",
          "model_module_version": "1.2.0",
          "state": {
            "_model_module": "@jupyter-widgets/base",
            "_model_module_version": "1.2.0",
            "_model_name": "LayoutModel",
            "_view_count": null,
            "_view_module": "@jupyter-widgets/base",
            "_view_module_version": "1.2.0",
            "_view_name": "LayoutView",
            "align_content": null,
            "align_items": null,
            "align_self": null,
            "border": null,
            "bottom": null,
            "display": null,
            "flex": null,
            "flex_flow": null,
            "grid_area": null,
            "grid_auto_columns": null,
            "grid_auto_flow": null,
            "grid_auto_rows": null,
            "grid_column": null,
            "grid_gap": null,
            "grid_row": null,
            "grid_template_areas": null,
            "grid_template_columns": null,
            "grid_template_rows": null,
            "height": null,
            "justify_content": null,
            "justify_items": null,
            "left": null,
            "margin": null,
            "max_height": null,
            "max_width": null,
            "min_height": null,
            "min_width": null,
            "object_fit": null,
            "object_position": null,
            "order": null,
            "overflow": null,
            "overflow_x": null,
            "overflow_y": null,
            "padding": null,
            "right": null,
            "top": null,
            "visibility": null,
            "width": null
          }
        },
        "eb1f4e1e776a400e9594061da5f891ad": {
          "model_module": "@jupyter-widgets/controls",
          "model_name": "ProgressStyleModel",
          "model_module_version": "1.5.0",
          "state": {
            "_model_module": "@jupyter-widgets/controls",
            "_model_module_version": "1.5.0",
            "_model_name": "ProgressStyleModel",
            "_view_count": null,
            "_view_module": "@jupyter-widgets/base",
            "_view_module_version": "1.2.0",
            "_view_name": "StyleView",
            "bar_color": null,
            "description_width": ""
          }
        },
        "87a09d3732e9469394f43d2f43854003": {
          "model_module": "@jupyter-widgets/base",
          "model_name": "LayoutModel",
          "model_module_version": "1.2.0",
          "state": {
            "_model_module": "@jupyter-widgets/base",
            "_model_module_version": "1.2.0",
            "_model_name": "LayoutModel",
            "_view_count": null,
            "_view_module": "@jupyter-widgets/base",
            "_view_module_version": "1.2.0",
            "_view_name": "LayoutView",
            "align_content": null,
            "align_items": null,
            "align_self": null,
            "border": null,
            "bottom": null,
            "display": null,
            "flex": null,
            "flex_flow": null,
            "grid_area": null,
            "grid_auto_columns": null,
            "grid_auto_flow": null,
            "grid_auto_rows": null,
            "grid_column": null,
            "grid_gap": null,
            "grid_row": null,
            "grid_template_areas": null,
            "grid_template_columns": null,
            "grid_template_rows": null,
            "height": null,
            "justify_content": null,
            "justify_items": null,
            "left": null,
            "margin": null,
            "max_height": null,
            "max_width": null,
            "min_height": null,
            "min_width": null,
            "object_fit": null,
            "object_position": null,
            "order": null,
            "overflow": null,
            "overflow_x": null,
            "overflow_y": null,
            "padding": null,
            "right": null,
            "top": null,
            "visibility": null,
            "width": null
          }
        },
        "da3f441f6140463786fd3ae663b453ab": {
          "model_module": "@jupyter-widgets/controls",
          "model_name": "DescriptionStyleModel",
          "model_module_version": "1.5.0",
          "state": {
            "_model_module": "@jupyter-widgets/controls",
            "_model_module_version": "1.5.0",
            "_model_name": "DescriptionStyleModel",
            "_view_count": null,
            "_view_module": "@jupyter-widgets/base",
            "_view_module_version": "1.2.0",
            "_view_name": "StyleView",
            "description_width": ""
          }
        },
        "871fbca6a9fd4f05bf81628f4b818380": {
          "model_module": "@jupyter-widgets/controls",
          "model_name": "HBoxModel",
          "model_module_version": "1.5.0",
          "state": {
            "_dom_classes": [],
            "_model_module": "@jupyter-widgets/controls",
            "_model_module_version": "1.5.0",
            "_model_name": "HBoxModel",
            "_view_count": null,
            "_view_module": "@jupyter-widgets/controls",
            "_view_module_version": "1.5.0",
            "_view_name": "HBoxView",
            "box_style": "",
            "children": [
              "IPY_MODEL_32831392a2934582b9f64000986e13f0",
              "IPY_MODEL_1fc269579a8746cc81fa805acb00d0b1",
              "IPY_MODEL_e260f441face4b66a9f1374f5472887f"
            ],
            "layout": "IPY_MODEL_b8ce42089475454fa89ed96c68651f72"
          }
        },
        "32831392a2934582b9f64000986e13f0": {
          "model_module": "@jupyter-widgets/controls",
          "model_name": "HTMLModel",
          "model_module_version": "1.5.0",
          "state": {
            "_dom_classes": [],
            "_model_module": "@jupyter-widgets/controls",
            "_model_module_version": "1.5.0",
            "_model_name": "HTMLModel",
            "_view_count": null,
            "_view_module": "@jupyter-widgets/controls",
            "_view_module_version": "1.5.0",
            "_view_name": "HTMLView",
            "description": "",
            "description_tooltip": null,
            "layout": "IPY_MODEL_5d9ad8c625ab4220b4b226633bd8fa99",
            "placeholder": "​",
            "style": "IPY_MODEL_120647c4d1f649b48b5534351dd69d11",
            "value": "Creating parquet from Arrow format: 100%"
          }
        },
        "1fc269579a8746cc81fa805acb00d0b1": {
          "model_module": "@jupyter-widgets/controls",
          "model_name": "FloatProgressModel",
          "model_module_version": "1.5.0",
          "state": {
            "_dom_classes": [],
            "_model_module": "@jupyter-widgets/controls",
            "_model_module_version": "1.5.0",
            "_model_name": "FloatProgressModel",
            "_view_count": null,
            "_view_module": "@jupyter-widgets/controls",
            "_view_module_version": "1.5.0",
            "_view_name": "ProgressView",
            "bar_style": "success",
            "description": "",
            "description_tooltip": null,
            "layout": "IPY_MODEL_600aee4ee3954de5bbff0d56c4586dff",
            "max": 16,
            "min": 0,
            "orientation": "horizontal",
            "style": "IPY_MODEL_9e89bb6dfe9d4d77b4b519a0c58dcdc2",
            "value": 16
          }
        },
        "e260f441face4b66a9f1374f5472887f": {
          "model_module": "@jupyter-widgets/controls",
          "model_name": "HTMLModel",
          "model_module_version": "1.5.0",
          "state": {
            "_dom_classes": [],
            "_model_module": "@jupyter-widgets/controls",
            "_model_module_version": "1.5.0",
            "_model_name": "HTMLModel",
            "_view_count": null,
            "_view_module": "@jupyter-widgets/controls",
            "_view_module_version": "1.5.0",
            "_view_name": "HTMLView",
            "description": "",
            "description_tooltip": null,
            "layout": "IPY_MODEL_a2b500bbe3824cdf9e71ec2e460cb5cd",
            "placeholder": "​",
            "style": "IPY_MODEL_aca9b912ce284712997991b641e990a6",
            "value": " 16/16 [00:00&lt;00:00, 21.80ba/s]"
          }
        },
        "b8ce42089475454fa89ed96c68651f72": {
          "model_module": "@jupyter-widgets/base",
          "model_name": "LayoutModel",
          "model_module_version": "1.2.0",
          "state": {
            "_model_module": "@jupyter-widgets/base",
            "_model_module_version": "1.2.0",
            "_model_name": "LayoutModel",
            "_view_count": null,
            "_view_module": "@jupyter-widgets/base",
            "_view_module_version": "1.2.0",
            "_view_name": "LayoutView",
            "align_content": null,
            "align_items": null,
            "align_self": null,
            "border": null,
            "bottom": null,
            "display": null,
            "flex": null,
            "flex_flow": null,
            "grid_area": null,
            "grid_auto_columns": null,
            "grid_auto_flow": null,
            "grid_auto_rows": null,
            "grid_column": null,
            "grid_gap": null,
            "grid_row": null,
            "grid_template_areas": null,
            "grid_template_columns": null,
            "grid_template_rows": null,
            "height": null,
            "justify_content": null,
            "justify_items": null,
            "left": null,
            "margin": null,
            "max_height": null,
            "max_width": null,
            "min_height": null,
            "min_width": null,
            "object_fit": null,
            "object_position": null,
            "order": null,
            "overflow": null,
            "overflow_x": null,
            "overflow_y": null,
            "padding": null,
            "right": null,
            "top": null,
            "visibility": null,
            "width": null
          }
        },
        "5d9ad8c625ab4220b4b226633bd8fa99": {
          "model_module": "@jupyter-widgets/base",
          "model_name": "LayoutModel",
          "model_module_version": "1.2.0",
          "state": {
            "_model_module": "@jupyter-widgets/base",
            "_model_module_version": "1.2.0",
            "_model_name": "LayoutModel",
            "_view_count": null,
            "_view_module": "@jupyter-widgets/base",
            "_view_module_version": "1.2.0",
            "_view_name": "LayoutView",
            "align_content": null,
            "align_items": null,
            "align_self": null,
            "border": null,
            "bottom": null,
            "display": null,
            "flex": null,
            "flex_flow": null,
            "grid_area": null,
            "grid_auto_columns": null,
            "grid_auto_flow": null,
            "grid_auto_rows": null,
            "grid_column": null,
            "grid_gap": null,
            "grid_row": null,
            "grid_template_areas": null,
            "grid_template_columns": null,
            "grid_template_rows": null,
            "height": null,
            "justify_content": null,
            "justify_items": null,
            "left": null,
            "margin": null,
            "max_height": null,
            "max_width": null,
            "min_height": null,
            "min_width": null,
            "object_fit": null,
            "object_position": null,
            "order": null,
            "overflow": null,
            "overflow_x": null,
            "overflow_y": null,
            "padding": null,
            "right": null,
            "top": null,
            "visibility": null,
            "width": null
          }
        },
        "120647c4d1f649b48b5534351dd69d11": {
          "model_module": "@jupyter-widgets/controls",
          "model_name": "DescriptionStyleModel",
          "model_module_version": "1.5.0",
          "state": {
            "_model_module": "@jupyter-widgets/controls",
            "_model_module_version": "1.5.0",
            "_model_name": "DescriptionStyleModel",
            "_view_count": null,
            "_view_module": "@jupyter-widgets/base",
            "_view_module_version": "1.2.0",
            "_view_name": "StyleView",
            "description_width": ""
          }
        },
        "600aee4ee3954de5bbff0d56c4586dff": {
          "model_module": "@jupyter-widgets/base",
          "model_name": "LayoutModel",
          "model_module_version": "1.2.0",
          "state": {
            "_model_module": "@jupyter-widgets/base",
            "_model_module_version": "1.2.0",
            "_model_name": "LayoutModel",
            "_view_count": null,
            "_view_module": "@jupyter-widgets/base",
            "_view_module_version": "1.2.0",
            "_view_name": "LayoutView",
            "align_content": null,
            "align_items": null,
            "align_self": null,
            "border": null,
            "bottom": null,
            "display": null,
            "flex": null,
            "flex_flow": null,
            "grid_area": null,
            "grid_auto_columns": null,
            "grid_auto_flow": null,
            "grid_auto_rows": null,
            "grid_column": null,
            "grid_gap": null,
            "grid_row": null,
            "grid_template_areas": null,
            "grid_template_columns": null,
            "grid_template_rows": null,
            "height": null,
            "justify_content": null,
            "justify_items": null,
            "left": null,
            "margin": null,
            "max_height": null,
            "max_width": null,
            "min_height": null,
            "min_width": null,
            "object_fit": null,
            "object_position": null,
            "order": null,
            "overflow": null,
            "overflow_x": null,
            "overflow_y": null,
            "padding": null,
            "right": null,
            "top": null,
            "visibility": null,
            "width": null
          }
        },
        "9e89bb6dfe9d4d77b4b519a0c58dcdc2": {
          "model_module": "@jupyter-widgets/controls",
          "model_name": "ProgressStyleModel",
          "model_module_version": "1.5.0",
          "state": {
            "_model_module": "@jupyter-widgets/controls",
            "_model_module_version": "1.5.0",
            "_model_name": "ProgressStyleModel",
            "_view_count": null,
            "_view_module": "@jupyter-widgets/base",
            "_view_module_version": "1.2.0",
            "_view_name": "StyleView",
            "bar_color": null,
            "description_width": ""
          }
        },
        "a2b500bbe3824cdf9e71ec2e460cb5cd": {
          "model_module": "@jupyter-widgets/base",
          "model_name": "LayoutModel",
          "model_module_version": "1.2.0",
          "state": {
            "_model_module": "@jupyter-widgets/base",
            "_model_module_version": "1.2.0",
            "_model_name": "LayoutModel",
            "_view_count": null,
            "_view_module": "@jupyter-widgets/base",
            "_view_module_version": "1.2.0",
            "_view_name": "LayoutView",
            "align_content": null,
            "align_items": null,
            "align_self": null,
            "border": null,
            "bottom": null,
            "display": null,
            "flex": null,
            "flex_flow": null,
            "grid_area": null,
            "grid_auto_columns": null,
            "grid_auto_flow": null,
            "grid_auto_rows": null,
            "grid_column": null,
            "grid_gap": null,
            "grid_row": null,
            "grid_template_areas": null,
            "grid_template_columns": null,
            "grid_template_rows": null,
            "height": null,
            "justify_content": null,
            "justify_items": null,
            "left": null,
            "margin": null,
            "max_height": null,
            "max_width": null,
            "min_height": null,
            "min_width": null,
            "object_fit": null,
            "object_position": null,
            "order": null,
            "overflow": null,
            "overflow_x": null,
            "overflow_y": null,
            "padding": null,
            "right": null,
            "top": null,
            "visibility": null,
            "width": null
          }
        },
        "aca9b912ce284712997991b641e990a6": {
          "model_module": "@jupyter-widgets/controls",
          "model_name": "DescriptionStyleModel",
          "model_module_version": "1.5.0",
          "state": {
            "_model_module": "@jupyter-widgets/controls",
            "_model_module_version": "1.5.0",
            "_model_name": "DescriptionStyleModel",
            "_view_count": null,
            "_view_module": "@jupyter-widgets/base",
            "_view_module_version": "1.2.0",
            "_view_name": "StyleView",
            "description_width": ""
          }
        },
        "44694a8ec1714d2baaca677115996284": {
          "model_module": "@jupyter-widgets/controls",
          "model_name": "HBoxModel",
          "model_module_version": "1.5.0",
          "state": {
            "_dom_classes": [],
            "_model_module": "@jupyter-widgets/controls",
            "_model_module_version": "1.5.0",
            "_model_name": "HBoxModel",
            "_view_count": null,
            "_view_module": "@jupyter-widgets/controls",
            "_view_module_version": "1.5.0",
            "_view_name": "HBoxView",
            "box_style": "",
            "children": [
              "IPY_MODEL_774d5aa6501a4b698084a5e09dc3afec",
              "IPY_MODEL_043bd62754084480b3d9cba836b2efc7",
              "IPY_MODEL_c1999cd4106b497faa349a2f827166ab"
            ],
            "layout": "IPY_MODEL_1078c64ba60745a4b607b9520497c40d"
          }
        },
        "774d5aa6501a4b698084a5e09dc3afec": {
          "model_module": "@jupyter-widgets/controls",
          "model_name": "HTMLModel",
          "model_module_version": "1.5.0",
          "state": {
            "_dom_classes": [],
            "_model_module": "@jupyter-widgets/controls",
            "_model_module_version": "1.5.0",
            "_model_name": "HTMLModel",
            "_view_count": null,
            "_view_module": "@jupyter-widgets/controls",
            "_view_module_version": "1.5.0",
            "_view_name": "HTMLView",
            "description": "",
            "description_tooltip": null,
            "layout": "IPY_MODEL_119f20ac6e8c4040bc0eae04f181afdd",
            "placeholder": "​",
            "style": "IPY_MODEL_20d5d41625d74594a56e942ae6ac48ac",
            "value": "Creating parquet from Arrow format: 100%"
          }
        },
        "043bd62754084480b3d9cba836b2efc7": {
          "model_module": "@jupyter-widgets/controls",
          "model_name": "FloatProgressModel",
          "model_module_version": "1.5.0",
          "state": {
            "_dom_classes": [],
            "_model_module": "@jupyter-widgets/controls",
            "_model_module_version": "1.5.0",
            "_model_name": "FloatProgressModel",
            "_view_count": null,
            "_view_module": "@jupyter-widgets/controls",
            "_view_module_version": "1.5.0",
            "_view_name": "ProgressView",
            "bar_style": "success",
            "description": "",
            "description_tooltip": null,
            "layout": "IPY_MODEL_1c0c254453824bfab5e694d01c135299",
            "max": 17,
            "min": 0,
            "orientation": "horizontal",
            "style": "IPY_MODEL_a3617de26f94420da6fd9ed961787866",
            "value": 17
          }
        },
        "c1999cd4106b497faa349a2f827166ab": {
          "model_module": "@jupyter-widgets/controls",
          "model_name": "HTMLModel",
          "model_module_version": "1.5.0",
          "state": {
            "_dom_classes": [],
            "_model_module": "@jupyter-widgets/controls",
            "_model_module_version": "1.5.0",
            "_model_name": "HTMLModel",
            "_view_count": null,
            "_view_module": "@jupyter-widgets/controls",
            "_view_module_version": "1.5.0",
            "_view_name": "HTMLView",
            "description": "",
            "description_tooltip": null,
            "layout": "IPY_MODEL_6c395dcd429b49d0843ccd34bb239d36",
            "placeholder": "​",
            "style": "IPY_MODEL_01efe318d981445e84ac6510135c8154",
            "value": " 17/17 [00:00&lt;00:00, 24.11ba/s]"
          }
        },
        "1078c64ba60745a4b607b9520497c40d": {
          "model_module": "@jupyter-widgets/base",
          "model_name": "LayoutModel",
          "model_module_version": "1.2.0",
          "state": {
            "_model_module": "@jupyter-widgets/base",
            "_model_module_version": "1.2.0",
            "_model_name": "LayoutModel",
            "_view_count": null,
            "_view_module": "@jupyter-widgets/base",
            "_view_module_version": "1.2.0",
            "_view_name": "LayoutView",
            "align_content": null,
            "align_items": null,
            "align_self": null,
            "border": null,
            "bottom": null,
            "display": null,
            "flex": null,
            "flex_flow": null,
            "grid_area": null,
            "grid_auto_columns": null,
            "grid_auto_flow": null,
            "grid_auto_rows": null,
            "grid_column": null,
            "grid_gap": null,
            "grid_row": null,
            "grid_template_areas": null,
            "grid_template_columns": null,
            "grid_template_rows": null,
            "height": null,
            "justify_content": null,
            "justify_items": null,
            "left": null,
            "margin": null,
            "max_height": null,
            "max_width": null,
            "min_height": null,
            "min_width": null,
            "object_fit": null,
            "object_position": null,
            "order": null,
            "overflow": null,
            "overflow_x": null,
            "overflow_y": null,
            "padding": null,
            "right": null,
            "top": null,
            "visibility": null,
            "width": null
          }
        },
        "119f20ac6e8c4040bc0eae04f181afdd": {
          "model_module": "@jupyter-widgets/base",
          "model_name": "LayoutModel",
          "model_module_version": "1.2.0",
          "state": {
            "_model_module": "@jupyter-widgets/base",
            "_model_module_version": "1.2.0",
            "_model_name": "LayoutModel",
            "_view_count": null,
            "_view_module": "@jupyter-widgets/base",
            "_view_module_version": "1.2.0",
            "_view_name": "LayoutView",
            "align_content": null,
            "align_items": null,
            "align_self": null,
            "border": null,
            "bottom": null,
            "display": null,
            "flex": null,
            "flex_flow": null,
            "grid_area": null,
            "grid_auto_columns": null,
            "grid_auto_flow": null,
            "grid_auto_rows": null,
            "grid_column": null,
            "grid_gap": null,
            "grid_row": null,
            "grid_template_areas": null,
            "grid_template_columns": null,
            "grid_template_rows": null,
            "height": null,
            "justify_content": null,
            "justify_items": null,
            "left": null,
            "margin": null,
            "max_height": null,
            "max_width": null,
            "min_height": null,
            "min_width": null,
            "object_fit": null,
            "object_position": null,
            "order": null,
            "overflow": null,
            "overflow_x": null,
            "overflow_y": null,
            "padding": null,
            "right": null,
            "top": null,
            "visibility": null,
            "width": null
          }
        },
        "20d5d41625d74594a56e942ae6ac48ac": {
          "model_module": "@jupyter-widgets/controls",
          "model_name": "DescriptionStyleModel",
          "model_module_version": "1.5.0",
          "state": {
            "_model_module": "@jupyter-widgets/controls",
            "_model_module_version": "1.5.0",
            "_model_name": "DescriptionStyleModel",
            "_view_count": null,
            "_view_module": "@jupyter-widgets/base",
            "_view_module_version": "1.2.0",
            "_view_name": "StyleView",
            "description_width": ""
          }
        },
        "1c0c254453824bfab5e694d01c135299": {
          "model_module": "@jupyter-widgets/base",
          "model_name": "LayoutModel",
          "model_module_version": "1.2.0",
          "state": {
            "_model_module": "@jupyter-widgets/base",
            "_model_module_version": "1.2.0",
            "_model_name": "LayoutModel",
            "_view_count": null,
            "_view_module": "@jupyter-widgets/base",
            "_view_module_version": "1.2.0",
            "_view_name": "LayoutView",
            "align_content": null,
            "align_items": null,
            "align_self": null,
            "border": null,
            "bottom": null,
            "display": null,
            "flex": null,
            "flex_flow": null,
            "grid_area": null,
            "grid_auto_columns": null,
            "grid_auto_flow": null,
            "grid_auto_rows": null,
            "grid_column": null,
            "grid_gap": null,
            "grid_row": null,
            "grid_template_areas": null,
            "grid_template_columns": null,
            "grid_template_rows": null,
            "height": null,
            "justify_content": null,
            "justify_items": null,
            "left": null,
            "margin": null,
            "max_height": null,
            "max_width": null,
            "min_height": null,
            "min_width": null,
            "object_fit": null,
            "object_position": null,
            "order": null,
            "overflow": null,
            "overflow_x": null,
            "overflow_y": null,
            "padding": null,
            "right": null,
            "top": null,
            "visibility": null,
            "width": null
          }
        },
        "a3617de26f94420da6fd9ed961787866": {
          "model_module": "@jupyter-widgets/controls",
          "model_name": "ProgressStyleModel",
          "model_module_version": "1.5.0",
          "state": {
            "_model_module": "@jupyter-widgets/controls",
            "_model_module_version": "1.5.0",
            "_model_name": "ProgressStyleModel",
            "_view_count": null,
            "_view_module": "@jupyter-widgets/base",
            "_view_module_version": "1.2.0",
            "_view_name": "StyleView",
            "bar_color": null,
            "description_width": ""
          }
        },
        "6c395dcd429b49d0843ccd34bb239d36": {
          "model_module": "@jupyter-widgets/base",
          "model_name": "LayoutModel",
          "model_module_version": "1.2.0",
          "state": {
            "_model_module": "@jupyter-widgets/base",
            "_model_module_version": "1.2.0",
            "_model_name": "LayoutModel",
            "_view_count": null,
            "_view_module": "@jupyter-widgets/base",
            "_view_module_version": "1.2.0",
            "_view_name": "LayoutView",
            "align_content": null,
            "align_items": null,
            "align_self": null,
            "border": null,
            "bottom": null,
            "display": null,
            "flex": null,
            "flex_flow": null,
            "grid_area": null,
            "grid_auto_columns": null,
            "grid_auto_flow": null,
            "grid_auto_rows": null,
            "grid_column": null,
            "grid_gap": null,
            "grid_row": null,
            "grid_template_areas": null,
            "grid_template_columns": null,
            "grid_template_rows": null,
            "height": null,
            "justify_content": null,
            "justify_items": null,
            "left": null,
            "margin": null,
            "max_height": null,
            "max_width": null,
            "min_height": null,
            "min_width": null,
            "object_fit": null,
            "object_position": null,
            "order": null,
            "overflow": null,
            "overflow_x": null,
            "overflow_y": null,
            "padding": null,
            "right": null,
            "top": null,
            "visibility": null,
            "width": null
          }
        },
        "01efe318d981445e84ac6510135c8154": {
          "model_module": "@jupyter-widgets/controls",
          "model_name": "DescriptionStyleModel",
          "model_module_version": "1.5.0",
          "state": {
            "_model_module": "@jupyter-widgets/controls",
            "_model_module_version": "1.5.0",
            "_model_name": "DescriptionStyleModel",
            "_view_count": null,
            "_view_module": "@jupyter-widgets/base",
            "_view_module_version": "1.2.0",
            "_view_name": "StyleView",
            "description_width": ""
          }
        },
        "b582c4cd5e0e468b90df18ef8b40a37d": {
          "model_module": "@jupyter-widgets/controls",
          "model_name": "HBoxModel",
          "model_module_version": "1.5.0",
          "state": {
            "_dom_classes": [],
            "_model_module": "@jupyter-widgets/controls",
            "_model_module_version": "1.5.0",
            "_model_name": "HBoxModel",
            "_view_count": null,
            "_view_module": "@jupyter-widgets/controls",
            "_view_module_version": "1.5.0",
            "_view_name": "HBoxView",
            "box_style": "",
            "children": [
              "IPY_MODEL_7cd1dc9bdaa7423cafacfc4038db2f35",
              "IPY_MODEL_767a3810204649ddb711c9c2c877dc7d",
              "IPY_MODEL_fa038f6bdf8c4a549fffe77504cb6232"
            ],
            "layout": "IPY_MODEL_1c5b2e0b201146e68303ad8f610b4b4d"
          }
        },
        "7cd1dc9bdaa7423cafacfc4038db2f35": {
          "model_module": "@jupyter-widgets/controls",
          "model_name": "HTMLModel",
          "model_module_version": "1.5.0",
          "state": {
            "_dom_classes": [],
            "_model_module": "@jupyter-widgets/controls",
            "_model_module_version": "1.5.0",
            "_model_name": "HTMLModel",
            "_view_count": null,
            "_view_module": "@jupyter-widgets/controls",
            "_view_module_version": "1.5.0",
            "_view_name": "HTMLView",
            "description": "",
            "description_tooltip": null,
            "layout": "IPY_MODEL_178219f39c0545d7b8a2905af694f046",
            "placeholder": "​",
            "style": "IPY_MODEL_38f68e0e37dd4f24a12e66e623d055fe",
            "value": "Creating parquet from Arrow format: 100%"
          }
        },
        "767a3810204649ddb711c9c2c877dc7d": {
          "model_module": "@jupyter-widgets/controls",
          "model_name": "FloatProgressModel",
          "model_module_version": "1.5.0",
          "state": {
            "_dom_classes": [],
            "_model_module": "@jupyter-widgets/controls",
            "_model_module_version": "1.5.0",
            "_model_name": "FloatProgressModel",
            "_view_count": null,
            "_view_module": "@jupyter-widgets/controls",
            "_view_module_version": "1.5.0",
            "_view_name": "ProgressView",
            "bar_style": "success",
            "description": "",
            "description_tooltip": null,
            "layout": "IPY_MODEL_6ffd4667cd274b9eb87b1142021eb4be",
            "max": 39,
            "min": 0,
            "orientation": "horizontal",
            "style": "IPY_MODEL_08e20874652545d39dbb5bafa48a4883",
            "value": 39
          }
        },
        "fa038f6bdf8c4a549fffe77504cb6232": {
          "model_module": "@jupyter-widgets/controls",
          "model_name": "HTMLModel",
          "model_module_version": "1.5.0",
          "state": {
            "_dom_classes": [],
            "_model_module": "@jupyter-widgets/controls",
            "_model_module_version": "1.5.0",
            "_model_name": "HTMLModel",
            "_view_count": null,
            "_view_module": "@jupyter-widgets/controls",
            "_view_module_version": "1.5.0",
            "_view_name": "HTMLView",
            "description": "",
            "description_tooltip": null,
            "layout": "IPY_MODEL_940db95d937f46f68469e17e52fcbfa3",
            "placeholder": "​",
            "style": "IPY_MODEL_34cbf99ca0924bbb914a13f6ac32aa70",
            "value": " 39/39 [00:03&lt;00:00, 12.43ba/s]"
          }
        },
        "1c5b2e0b201146e68303ad8f610b4b4d": {
          "model_module": "@jupyter-widgets/base",
          "model_name": "LayoutModel",
          "model_module_version": "1.2.0",
          "state": {
            "_model_module": "@jupyter-widgets/base",
            "_model_module_version": "1.2.0",
            "_model_name": "LayoutModel",
            "_view_count": null,
            "_view_module": "@jupyter-widgets/base",
            "_view_module_version": "1.2.0",
            "_view_name": "LayoutView",
            "align_content": null,
            "align_items": null,
            "align_self": null,
            "border": null,
            "bottom": null,
            "display": null,
            "flex": null,
            "flex_flow": null,
            "grid_area": null,
            "grid_auto_columns": null,
            "grid_auto_flow": null,
            "grid_auto_rows": null,
            "grid_column": null,
            "grid_gap": null,
            "grid_row": null,
            "grid_template_areas": null,
            "grid_template_columns": null,
            "grid_template_rows": null,
            "height": null,
            "justify_content": null,
            "justify_items": null,
            "left": null,
            "margin": null,
            "max_height": null,
            "max_width": null,
            "min_height": null,
            "min_width": null,
            "object_fit": null,
            "object_position": null,
            "order": null,
            "overflow": null,
            "overflow_x": null,
            "overflow_y": null,
            "padding": null,
            "right": null,
            "top": null,
            "visibility": null,
            "width": null
          }
        },
        "178219f39c0545d7b8a2905af694f046": {
          "model_module": "@jupyter-widgets/base",
          "model_name": "LayoutModel",
          "model_module_version": "1.2.0",
          "state": {
            "_model_module": "@jupyter-widgets/base",
            "_model_module_version": "1.2.0",
            "_model_name": "LayoutModel",
            "_view_count": null,
            "_view_module": "@jupyter-widgets/base",
            "_view_module_version": "1.2.0",
            "_view_name": "LayoutView",
            "align_content": null,
            "align_items": null,
            "align_self": null,
            "border": null,
            "bottom": null,
            "display": null,
            "flex": null,
            "flex_flow": null,
            "grid_area": null,
            "grid_auto_columns": null,
            "grid_auto_flow": null,
            "grid_auto_rows": null,
            "grid_column": null,
            "grid_gap": null,
            "grid_row": null,
            "grid_template_areas": null,
            "grid_template_columns": null,
            "grid_template_rows": null,
            "height": null,
            "justify_content": null,
            "justify_items": null,
            "left": null,
            "margin": null,
            "max_height": null,
            "max_width": null,
            "min_height": null,
            "min_width": null,
            "object_fit": null,
            "object_position": null,
            "order": null,
            "overflow": null,
            "overflow_x": null,
            "overflow_y": null,
            "padding": null,
            "right": null,
            "top": null,
            "visibility": null,
            "width": null
          }
        },
        "38f68e0e37dd4f24a12e66e623d055fe": {
          "model_module": "@jupyter-widgets/controls",
          "model_name": "DescriptionStyleModel",
          "model_module_version": "1.5.0",
          "state": {
            "_model_module": "@jupyter-widgets/controls",
            "_model_module_version": "1.5.0",
            "_model_name": "DescriptionStyleModel",
            "_view_count": null,
            "_view_module": "@jupyter-widgets/base",
            "_view_module_version": "1.2.0",
            "_view_name": "StyleView",
            "description_width": ""
          }
        },
        "6ffd4667cd274b9eb87b1142021eb4be": {
          "model_module": "@jupyter-widgets/base",
          "model_name": "LayoutModel",
          "model_module_version": "1.2.0",
          "state": {
            "_model_module": "@jupyter-widgets/base",
            "_model_module_version": "1.2.0",
            "_model_name": "LayoutModel",
            "_view_count": null,
            "_view_module": "@jupyter-widgets/base",
            "_view_module_version": "1.2.0",
            "_view_name": "LayoutView",
            "align_content": null,
            "align_items": null,
            "align_self": null,
            "border": null,
            "bottom": null,
            "display": null,
            "flex": null,
            "flex_flow": null,
            "grid_area": null,
            "grid_auto_columns": null,
            "grid_auto_flow": null,
            "grid_auto_rows": null,
            "grid_column": null,
            "grid_gap": null,
            "grid_row": null,
            "grid_template_areas": null,
            "grid_template_columns": null,
            "grid_template_rows": null,
            "height": null,
            "justify_content": null,
            "justify_items": null,
            "left": null,
            "margin": null,
            "max_height": null,
            "max_width": null,
            "min_height": null,
            "min_width": null,
            "object_fit": null,
            "object_position": null,
            "order": null,
            "overflow": null,
            "overflow_x": null,
            "overflow_y": null,
            "padding": null,
            "right": null,
            "top": null,
            "visibility": null,
            "width": null
          }
        },
        "08e20874652545d39dbb5bafa48a4883": {
          "model_module": "@jupyter-widgets/controls",
          "model_name": "ProgressStyleModel",
          "model_module_version": "1.5.0",
          "state": {
            "_model_module": "@jupyter-widgets/controls",
            "_model_module_version": "1.5.0",
            "_model_name": "ProgressStyleModel",
            "_view_count": null,
            "_view_module": "@jupyter-widgets/base",
            "_view_module_version": "1.2.0",
            "_view_name": "StyleView",
            "bar_color": null,
            "description_width": ""
          }
        },
        "940db95d937f46f68469e17e52fcbfa3": {
          "model_module": "@jupyter-widgets/base",
          "model_name": "LayoutModel",
          "model_module_version": "1.2.0",
          "state": {
            "_model_module": "@jupyter-widgets/base",
            "_model_module_version": "1.2.0",
            "_model_name": "LayoutModel",
            "_view_count": null,
            "_view_module": "@jupyter-widgets/base",
            "_view_module_version": "1.2.0",
            "_view_name": "LayoutView",
            "align_content": null,
            "align_items": null,
            "align_self": null,
            "border": null,
            "bottom": null,
            "display": null,
            "flex": null,
            "flex_flow": null,
            "grid_area": null,
            "grid_auto_columns": null,
            "grid_auto_flow": null,
            "grid_auto_rows": null,
            "grid_column": null,
            "grid_gap": null,
            "grid_row": null,
            "grid_template_areas": null,
            "grid_template_columns": null,
            "grid_template_rows": null,
            "height": null,
            "justify_content": null,
            "justify_items": null,
            "left": null,
            "margin": null,
            "max_height": null,
            "max_width": null,
            "min_height": null,
            "min_width": null,
            "object_fit": null,
            "object_position": null,
            "order": null,
            "overflow": null,
            "overflow_x": null,
            "overflow_y": null,
            "padding": null,
            "right": null,
            "top": null,
            "visibility": null,
            "width": null
          }
        },
        "34cbf99ca0924bbb914a13f6ac32aa70": {
          "model_module": "@jupyter-widgets/controls",
          "model_name": "DescriptionStyleModel",
          "model_module_version": "1.5.0",
          "state": {
            "_model_module": "@jupyter-widgets/controls",
            "_model_module_version": "1.5.0",
            "_model_name": "DescriptionStyleModel",
            "_view_count": null,
            "_view_module": "@jupyter-widgets/base",
            "_view_module_version": "1.2.0",
            "_view_name": "StyleView",
            "description_width": ""
          }
        }
      }
    }
  },
  "nbformat": 4,
  "nbformat_minor": 0
}